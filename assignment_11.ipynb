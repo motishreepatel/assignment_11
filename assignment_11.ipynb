{
 "cells": [
  {
   "cell_type": "code",
   "execution_count": 4,
   "metadata": {},
   "outputs": [
    {
     "ename": "AssertionError",
     "evalue": "spam should be non-negative number",
     "output_type": "error",
     "traceback": [
      "\u001b[0;31m---------------------------------------------------------------------------\u001b[0m",
      "\u001b[0;31mAssertionError\u001b[0m                            Traceback (most recent call last)",
      "Cell \u001b[0;32mIn[4], line 3\u001b[0m\n\u001b[1;32m      1\u001b[0m \u001b[38;5;66;03m#Q - 1. Create an assert statement that throws an AssertionError if the variable spam is a negative integer.\u001b[39;00m\n\u001b[1;32m      2\u001b[0m spam \u001b[38;5;241m=\u001b[39m \u001b[38;5;241m-\u001b[39m\u001b[38;5;241m7\u001b[39m\n\u001b[0;32m----> 3\u001b[0m \u001b[38;5;28;01massert\u001b[39;00m spam \u001b[38;5;241m>\u001b[39m\u001b[38;5;241m=\u001b[39m \u001b[38;5;241m0\u001b[39m, \u001b[38;5;124m\"\u001b[39m\u001b[38;5;124mspam should be non-negative number\u001b[39m\u001b[38;5;124m\"\u001b[39m\n",
      "\u001b[0;31mAssertionError\u001b[0m: spam should be non-negative number"
     ]
    }
   ],
   "source": [
    "#Q - 1. Create an assert statement that throws an AssertionError if the variable spam is a negative integer.\n",
    "spam = -7\n",
    "assert spam >= 0, \"spam should be non-negative number\""
   ]
  },
  {
   "cell_type": "code",
   "execution_count": 8,
   "metadata": {},
   "outputs": [
    {
     "ename": "AssertionError",
     "evalue": "eggs and bacon should have different values",
     "output_type": "error",
     "traceback": [
      "\u001b[0;31m---------------------------------------------------------------------------\u001b[0m",
      "\u001b[0;31mAssertionError\u001b[0m                            Traceback (most recent call last)",
      "Cell \u001b[0;32mIn[8], line 6\u001b[0m\n\u001b[1;32m      4\u001b[0m eggs \u001b[38;5;241m=\u001b[39m \u001b[38;5;124m\"\u001b[39m\u001b[38;5;124mgoodbye\u001b[39m\u001b[38;5;124m\"\u001b[39m\n\u001b[1;32m      5\u001b[0m bacon \u001b[38;5;241m=\u001b[39m \u001b[38;5;124m\"\u001b[39m\u001b[38;5;124mGOODbye\u001b[39m\u001b[38;5;124m\"\u001b[39m\n\u001b[0;32m----> 6\u001b[0m \u001b[38;5;28;01massert\u001b[39;00m eggs\u001b[38;5;241m.\u001b[39mlower() \u001b[38;5;241m!=\u001b[39m bacon\u001b[38;5;241m.\u001b[39mlower() , \u001b[38;5;124m\"\u001b[39m\u001b[38;5;124meggs and bacon should have different values\u001b[39m\u001b[38;5;124m\"\u001b[39m\n",
      "\u001b[0;31mAssertionError\u001b[0m: eggs and bacon should have different values"
     ]
    }
   ],
   "source": [
    "#Q = 2. Write an assert statement that triggers an AssertionError if the variables eggs and bacon contain strings that are the same as each other, even if their cases are different (that is, 'hello' and 'hello' are\n",
    "# considered the same, and 'goodbye' and 'GOODbye' are also considered the same).\n",
    "#Answer:\n",
    "eggs = \"goodbye\"\n",
    "bacon = \"GOODbye\"\n",
    "assert eggs.lower() != bacon.lower() , \"eggs and bacon should have different values\""
   ]
  },
  {
   "cell_type": "code",
   "execution_count": 9,
   "metadata": {},
   "outputs": [
    {
     "ename": "AssertionError",
     "evalue": "This assert statement always throws an AssertionError",
     "output_type": "error",
     "traceback": [
      "\u001b[0;31m---------------------------------------------------------------------------\u001b[0m",
      "\u001b[0;31mAssertionError\u001b[0m                            Traceback (most recent call last)",
      "Cell \u001b[0;32mIn[9], line 3\u001b[0m\n\u001b[1;32m      1\u001b[0m \u001b[38;5;66;03m#Q - 3. Create an assert statement that throws an AssertionError every time.\u001b[39;00m\n\u001b[1;32m      2\u001b[0m \u001b[38;5;66;03m#Answer:\u001b[39;00m\n\u001b[0;32m----> 3\u001b[0m \u001b[38;5;28;01massert\u001b[39;00m \u001b[38;5;28;01mFalse\u001b[39;00m , \u001b[38;5;124m\"\u001b[39m\u001b[38;5;124mThis assert statement always throws an AssertionError\u001b[39m\u001b[38;5;124m\"\u001b[39m\n",
      "\u001b[0;31mAssertionError\u001b[0m: This assert statement always throws an AssertionError"
     ]
    }
   ],
   "source": [
    "#Q - 3. Create an assert statement that throws an AssertionError every time.\n",
    "#Answer:\n",
    "assert False , \"This assert statement always throws an AssertionError\""
   ]
  },
  {
   "cell_type": "code",
   "execution_count": null,
   "metadata": {},
   "outputs": [],
   "source": [
    "#Q - 4. What are the two lines that must be present in your software in order to call logging.debug()?\n",
    "#Answer:\n",
    "In order to call logging.debug() in software, two must to use lines are:\n",
    "import logging #It is a must to import logging module here\n",
    "logging.basicConfig(level = logging.DEBUG) #Here we are configuring the logging level. Here we have set the level to DEBUG  so that DEBUG and all higher level messages will be logged."
   ]
  },
  {
   "cell_type": "code",
   "execution_count": null,
   "metadata": {},
   "outputs": [],
   "source": [
    "#Q - 5. What are the two lines that your program must have in order to have logging.debug() send a logging message to a file named programLog.txt?\n",
    "#Answer:\n",
    "Below are two lines to have in a program in order to have logging.debug() send a logging message to a file named programLog.txt\n",
    "import logging\n",
    "logging.basicConfig(filename = \"programLog.txt\", level = logging.DEBUG)"
   ]
  },
  {
   "cell_type": "code",
   "execution_count": null,
   "metadata": {},
   "outputs": [],
   "source": [
    "#Q - 6. What are the five levels of logging?\n",
    "#Answer:\n",
    "Five levels of Debugging based on increasing level of severity:\n",
    "DEBUG\n",
    "INFO\n",
    "WARNING\n",
    "ERROR\n",
    "CRITICAL\n"
   ]
  },
  {
   "cell_type": "code",
   "execution_count": null,
   "metadata": {},
   "outputs": [],
   "source": [
    "#Q - 7. What line of code would you add to your software to disable all logging messages?\n",
    "#Answer:\n",
    "To disable all logging messages in a program, we have to use the below code:\n",
    "logging.disable(logging.CRTICAL) #This line tells the logging module to disable all logging messages with severity level CRITICAL and below"
   ]
  },
  {
   "cell_type": "code",
   "execution_count": null,
   "metadata": {},
   "outputs": [],
   "source": [
    "#Q - 8.Why is using logging messages better than using print() to display the same message?\n",
    "#Answer:\n",
    "Using logging messages instead of print statements offers several advantages in terms of flexibility, control, and maintainability:\n",
    "1 . Log Levels: The logging provides different log levels that allow us to categorize our messages based on priority. With print statements we have to do it manually.\n",
    "2. Control and configuration: The logging module allows us to configure various aspects of logging, such as output destination (e.g., console, file), log formatting, timestamp inclusion, and more. With print statements, you have limited control over these aspects and would need to implement custom logic to achieve similar functionality.\n",
    "3. Log message timestamping: Logging automatically includes timestamps in log messages, which can be helpful for understanding the sequence of events during program execution. In contrast, with print statements, we would need to manually include timestamps if desired.\n"
   ]
  },
  {
   "cell_type": "code",
   "execution_count": null,
   "metadata": {},
   "outputs": [],
   "source": [
    "#Q - 9. What are the differences between the Step Over, Step In, and Step Out buttons in the debugger?\n",
    "#Answer:\n",
    "The Step Over, Step In, and Step Out buttons in the debugger are used for program execution control during debugging sessions. Here are the differences between these three buttons:\n",
    "\n",
    "Step Over: The Step Over button allows you to execute the current line of code and move to the next line in a single step. If the current line contains a function call, the debugger will execute the entire function without diving into its implementation. In other words, it \"steps over\" the function call, treating it as a single step and moves to the next line in the current scope.\n",
    "\n",
    "Step In: The Step In button is used to dive into the implementation of a function call. When you encounter a function call during debugging and click Step In, the debugger will move to the first line of the called function, allowing you to debug through the function's code. This allows for a detailed inspection and debugging of the function's execution.\n",
    "\n",
    "Step Out: The Step Out button is used to quickly move out of the current function being debugged and return to the caller. It allows you to skip the remaining execution of the current function and return to the line where the function was called. This can be useful when you are deep within a function's execution and want to quickly jump back to the calling code."
   ]
  },
  {
   "cell_type": "code",
   "execution_count": null,
   "metadata": {},
   "outputs": [],
   "source": [
    "#Q - 10.After you click Continue, when will the debugger stop ?\n",
    "#Answer:\n",
    "After clicking the \"Continue\" button in the debugger, the debugger will continue the program's execution without any further interruption until it reaches one of the following conditions:\n",
    "1. Breakpoint\n",
    "2. Exception\n",
    "3. Program Completion"
   ]
  },
  {
   "cell_type": "code",
   "execution_count": null,
   "metadata": {},
   "outputs": [],
   "source": [
    "#Q - 11. What is the concept of a breakpoint?\n",
    "#Answer:\n",
    "A breakpoint is a point in the source code of a program where the debugger pauses the execution to allow for inspection, analysis, and debugging of the program's state. It serves as a tool to control the flow of execution during the debugging process."
   ]
  }
 ],
 "metadata": {
  "kernelspec": {
   "display_name": "Python 3.9.6 64-bit",
   "language": "python",
   "name": "python3"
  },
  "language_info": {
   "codemirror_mode": {
    "name": "ipython",
    "version": 3
   },
   "file_extension": ".py",
   "mimetype": "text/x-python",
   "name": "python",
   "nbconvert_exporter": "python",
   "pygments_lexer": "ipython3",
   "version": "3.9.6"
  },
  "orig_nbformat": 4,
  "vscode": {
   "interpreter": {
    "hash": "31f2aee4e71d21fbe5cf8b01ff0e069b9275f58929596ceb00d14d90e3e16cd6"
   }
  }
 },
 "nbformat": 4,
 "nbformat_minor": 2
}
